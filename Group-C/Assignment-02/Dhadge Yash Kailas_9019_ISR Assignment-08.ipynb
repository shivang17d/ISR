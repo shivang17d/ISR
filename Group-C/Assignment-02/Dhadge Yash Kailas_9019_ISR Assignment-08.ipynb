{
 "cells": [
  {
   "cell_type": "markdown",
   "id": "77384eef",
   "metadata": {},
   "source": [
    "Name : Dhadge Yash Kailas\n",
    "Roll No : 9019\n",
    "Class : BE-IT\n",
    "Course : Information Storage and Retrieval\n",
    "\n",
    "Group:C (Assignment-02)\n",
    "Problem Statement :\n",
    "    Write a program to find the live weather report (temperature, wind speed, description, and weather) of a given city. "
   ]
  },
  {
   "cell_type": "markdown",
   "id": "7eddd611",
   "metadata": {},
   "source": [
    "# Importing Libraries"
   ]
  },
  {
   "cell_type": "code",
   "execution_count": 1,
   "id": "96e3aaa7",
   "metadata": {},
   "outputs": [],
   "source": [
    "from bs4 import BeautifulSoup\n",
    "import requests"
   ]
  },
  {
   "cell_type": "markdown",
   "id": "f895b73e",
   "metadata": {},
   "source": [
    "# Header and Requests to URL"
   ]
  },
  {
   "cell_type": "code",
   "execution_count": 2,
   "id": "f673c97b",
   "metadata": {},
   "outputs": [],
   "source": [
    "headers = {\n",
    "    'User-Agent': 'Mozilla/5.0 (Windows NT 10.0; Win64; x64) AppleWebKit/537.36 (KHTML, like Gecko) Chrome/58.0.3029.110 Safari/537.3'}\n",
    "\n",
    "def weather(city):\n",
    "    city = city.replace(\" \", \"+\")\n",
    "    res = requests.get(\n",
    "        f'https://www.google.com/search?q={city}&oq={city}&aqs=chrome.0.35i39l2j0l4j46j69i60.6128j1j7&sourceid=chrome&ie=UTF-8', headers=headers)\n",
    "    print(\"Searching...\\n\")\n",
    "    soup = BeautifulSoup(res.text, 'html.parser')\n",
    "    location = soup.select('#wob_loc')[0].getText().strip()\n",
    "    time = soup.select('#wob_dts')[0].getText().strip()\n",
    "    info = soup.select('#wob_dc')[0].getText().strip()\n",
    "    temp = soup.select('#wob_tm')[0].getText().strip()\n",
    "    precipitation = soup.select('#wob_pp')[0].getText().strip()\n",
    "    humidity = soup.select('#wob_hm')[0].getText().strip()\n",
    "    wind_speed = soup.select('#wob_ws')[0].getText().strip()\n",
    "    print(\"Location: \"+ location)\n",
    "    print(\"Time: \"+ time)\n",
    "    print(\"Description: \"+ info)\n",
    "    print(\"Temperature: \"+ temp+\"°C\")\n",
    "    print(\"Precipitation: \"+ precipitation)\n",
    "    print(\"Humidity: \"+ humidity)\n",
    "    print(\"Wind Speed: \"+ wind_speed)"
   ]
  },
  {
   "cell_type": "markdown",
   "id": "4b6ac369",
   "metadata": {},
   "source": []
  },
  {
   "cell_type": "markdown",
   "id": "ab478ad6",
   "metadata": {},
   "source": []
  },
  {
   "cell_type": "raw",
   "id": "0a4dbdf3",
   "metadata": {},
   "source": []
  },
  {
   "cell_type": "markdown",
   "id": "ebec7334",
   "metadata": {},
   "source": [
    "# Report for City"
   ]
  },
  {
   "cell_type": "code",
   "execution_count": 3,
   "id": "8830e6f2",
   "metadata": {},
   "outputs": [
    {
     "name": "stdout",
     "output_type": "stream",
     "text": [
      "Enter the Name of City:  Brazil\n",
      "Searching...\n",
      "\n",
      "Location: São Paulo, State of São Paulo, Brazil\n",
      "Time: Friday, 1:00 am\n",
      "Description: Clear with periodic clouds\n",
      "Temperature: 13°C\n",
      "Precipitation: 4%\n",
      "Humidity: 80%\n",
      "Wind Speed: 8 km/h\n"
     ]
    }
   ],
   "source": [
    "city = input(\"Enter the Name of City:  \")\n",
    "city = city+\" weather\"\n",
    "weather(city)"
   ]
  }
 ],
 "metadata": {
  "kernelspec": {
   "display_name": "Python 3 (ipykernel)",
   "language": "python",
   "name": "python3"
  },
  "language_info": {
   "codemirror_mode": {
    "name": "ipython",
    "version": 3
   },
   "file_extension": ".py",
   "mimetype": "text/x-python",
   "name": "python",
   "nbconvert_exporter": "python",
   "pygments_lexer": "ipython3",
   "version": "3.9.7"
  }
 },
 "nbformat": 4,
 "nbformat_minor": 5
}
